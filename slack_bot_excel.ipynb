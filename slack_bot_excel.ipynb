{
 "cells": [
  {
   "cell_type": "code",
   "execution_count": 1,
   "metadata": {
    "collapsed": true
   },
   "outputs": [
    {
     "name": "stdout",
     "output_type": "stream",
     "text": [
      "Collecting slackbot\n",
      "  Downloading slackbot-1.0.0-py2.py3-none-any.whl (12 kB)\n",
      "Requirement already satisfied: requests>=2.4.0 in /home/tommywu/exit/envs/ai_marketing/lib/python3.7/site-packages (from slackbot) (2.24.0)\n",
      "Collecting slacker>=0.9.50\n",
      "  Downloading slacker-0.14.0.tar.gz (10 kB)\n",
      "Collecting websocket-client<=0.44.0,>=0.22.0\n",
      "  Downloading websocket_client-0.44.0-py2.py3-none-any.whl (199 kB)\n",
      "\u001b[K     |████████████████████████████████| 199 kB 1.2 MB/s eta 0:00:01\n",
      "\u001b[?25hRequirement already satisfied: six>=1.10.0 in /home/tommywu/exit/envs/ai_marketing/lib/python3.7/site-packages (from slackbot) (1.15.0)\n",
      "Requirement already satisfied: idna<3,>=2.5 in /home/tommywu/exit/envs/ai_marketing/lib/python3.7/site-packages (from requests>=2.4.0->slackbot) (2.10)\n",
      "Requirement already satisfied: urllib3!=1.25.0,!=1.25.1,<1.26,>=1.21.1 in /home/tommywu/exit/envs/ai_marketing/lib/python3.7/site-packages (from requests>=2.4.0->slackbot) (1.25.10)\n",
      "Requirement already satisfied: chardet<4,>=3.0.2 in /home/tommywu/exit/envs/ai_marketing/lib/python3.7/site-packages (from requests>=2.4.0->slackbot) (3.0.4)\n",
      "Requirement already satisfied: certifi>=2017.4.17 in /home/tommywu/exit/envs/ai_marketing/lib/python3.7/site-packages (from requests>=2.4.0->slackbot) (2020.6.20)\n",
      "Building wheels for collected packages: slacker\n",
      "  Building wheel for slacker (setup.py) ... \u001b[?25ldone\n",
      "\u001b[?25h  Created wheel for slacker: filename=slacker-0.14.0-py3-none-any.whl size=9396 sha256=e8c62ee199be1b189dae28b30814cc5d8552ee2c1bfbb405e78990b2a7e3dc1c\n",
      "  Stored in directory: /home/tommywu/.cache/pip/wheels/96/03/7c/42cc27629dce1e0749cfb436300ae5965ccb9c4f7029527e34\n",
      "Successfully built slacker\n",
      "Installing collected packages: slacker, websocket-client, slackbot\n",
      "Successfully installed slackbot-1.0.0 slacker-0.14.0 websocket-client-0.44.0\n"
     ]
    }
   ],
   "source": [
    "!pip install slackbot"
   ]
  },
  {
   "cell_type": "code",
   "execution_count": 6,
   "metadata": {},
   "outputs": [],
   "source": [
    "from slackbot.bot import Bot"
   ]
  },
  {
   "cell_type": "code",
   "execution_count": 14,
   "metadata": {
    "collapsed": true
   },
   "outputs": [
    {
     "ename": "Error",
     "evalue": "invalid_auth",
     "output_type": "error",
     "traceback": [
      "\u001b[0;31m---------------------------------------------------------------------------\u001b[0m",
      "\u001b[0;31mError\u001b[0m                                     Traceback (most recent call last)",
      "\u001b[0;32m<ipython-input-14-8ce5d667bd06>\u001b[0m in \u001b[0;36m<module>\u001b[0;34m\u001b[0m\n\u001b[0;32m----> 1\u001b[0;31m \u001b[0mbot\u001b[0m \u001b[0;34m=\u001b[0m \u001b[0mBot\u001b[0m\u001b[0;34m(\u001b[0m\u001b[0;34m)\u001b[0m\u001b[0;34m\u001b[0m\u001b[0;34m\u001b[0m\u001b[0m\n\u001b[0m",
      "\u001b[0;32m~/exit/envs/ai_marketing/lib/python3.7/site-packages/slackbot/bot.py\u001b[0m in \u001b[0;36m__init__\u001b[0;34m(self)\u001b[0m\n\u001b[1;32m     25\u001b[0m                                                   'BOT_ICON') else None,\n\u001b[1;32m     26\u001b[0m             bot_emoji=settings.BOT_EMOJI if hasattr(settings,\n\u001b[0;32m---> 27\u001b[0;31m                                                     'BOT_EMOJI') else None\n\u001b[0m\u001b[1;32m     28\u001b[0m         )\n\u001b[1;32m     29\u001b[0m         \u001b[0mself\u001b[0m\u001b[0;34m.\u001b[0m\u001b[0m_plugins\u001b[0m \u001b[0;34m=\u001b[0m \u001b[0mPluginsManager\u001b[0m\u001b[0;34m(\u001b[0m\u001b[0;34m)\u001b[0m\u001b[0;34m\u001b[0m\u001b[0;34m\u001b[0m\u001b[0m\n",
      "\u001b[0;32m~/exit/envs/ai_marketing/lib/python3.7/site-packages/slackbot/slackclient.py\u001b[0m in \u001b[0;36m__init__\u001b[0;34m(self, token, timeout, bot_icon, bot_emoji, connect, rtm_start_args)\u001b[0m\n\u001b[1;32m     41\u001b[0m \u001b[0;34m\u001b[0m\u001b[0m\n\u001b[1;32m     42\u001b[0m         \u001b[0;32mif\u001b[0m \u001b[0mconnect\u001b[0m\u001b[0;34m:\u001b[0m\u001b[0;34m\u001b[0m\u001b[0;34m\u001b[0m\u001b[0m\n\u001b[0;32m---> 43\u001b[0;31m             \u001b[0mself\u001b[0m\u001b[0;34m.\u001b[0m\u001b[0mrtm_connect\u001b[0m\u001b[0;34m(\u001b[0m\u001b[0;34m)\u001b[0m\u001b[0;34m\u001b[0m\u001b[0;34m\u001b[0m\u001b[0m\n\u001b[0m\u001b[1;32m     44\u001b[0m \u001b[0;34m\u001b[0m\u001b[0m\n\u001b[1;32m     45\u001b[0m     \u001b[0;32mdef\u001b[0m \u001b[0mrtm_connect\u001b[0m\u001b[0;34m(\u001b[0m\u001b[0mself\u001b[0m\u001b[0;34m)\u001b[0m\u001b[0;34m:\u001b[0m\u001b[0;34m\u001b[0m\u001b[0;34m\u001b[0m\u001b[0m\n",
      "\u001b[0;32m~/exit/envs/ai_marketing/lib/python3.7/site-packages/slackbot/slackclient.py\u001b[0m in \u001b[0;36mrtm_connect\u001b[0;34m(self)\u001b[0m\n\u001b[1;32m     44\u001b[0m \u001b[0;34m\u001b[0m\u001b[0m\n\u001b[1;32m     45\u001b[0m     \u001b[0;32mdef\u001b[0m \u001b[0mrtm_connect\u001b[0m\u001b[0;34m(\u001b[0m\u001b[0mself\u001b[0m\u001b[0;34m)\u001b[0m\u001b[0;34m:\u001b[0m\u001b[0;34m\u001b[0m\u001b[0;34m\u001b[0m\u001b[0m\n\u001b[0;32m---> 46\u001b[0;31m         \u001b[0mreply\u001b[0m \u001b[0;34m=\u001b[0m \u001b[0mself\u001b[0m\u001b[0;34m.\u001b[0m\u001b[0mwebapi\u001b[0m\u001b[0;34m.\u001b[0m\u001b[0mrtm\u001b[0m\u001b[0;34m.\u001b[0m\u001b[0mstart\u001b[0m\u001b[0;34m(\u001b[0m\u001b[0;34m**\u001b[0m\u001b[0;34m(\u001b[0m\u001b[0mself\u001b[0m\u001b[0;34m.\u001b[0m\u001b[0mrtm_start_args\u001b[0m \u001b[0;32mor\u001b[0m \u001b[0;34m{\u001b[0m\u001b[0;34m}\u001b[0m\u001b[0;34m)\u001b[0m\u001b[0;34m)\u001b[0m\u001b[0;34m.\u001b[0m\u001b[0mbody\u001b[0m\u001b[0;34m\u001b[0m\u001b[0;34m\u001b[0m\u001b[0m\n\u001b[0m\u001b[1;32m     47\u001b[0m         \u001b[0mtime\u001b[0m\u001b[0;34m.\u001b[0m\u001b[0msleep\u001b[0m\u001b[0;34m(\u001b[0m\u001b[0;36m1\u001b[0m\u001b[0;34m)\u001b[0m\u001b[0;34m\u001b[0m\u001b[0;34m\u001b[0m\u001b[0m\n\u001b[1;32m     48\u001b[0m         \u001b[0mself\u001b[0m\u001b[0;34m.\u001b[0m\u001b[0mparse_slack_login_data\u001b[0m\u001b[0;34m(\u001b[0m\u001b[0mreply\u001b[0m\u001b[0;34m)\u001b[0m\u001b[0;34m\u001b[0m\u001b[0;34m\u001b[0m\u001b[0m\n",
      "\u001b[0;32m~/exit/envs/ai_marketing/lib/python3.7/site-packages/slacker/__init__.py\u001b[0m in \u001b[0;36mstart\u001b[0;34m(self, simple_latest, no_unreads, mpim_aware)\u001b[0m\n\u001b[1;32m    820\u001b[0m                             \u001b[0;34m'simple_latest'\u001b[0m\u001b[0;34m:\u001b[0m \u001b[0mint\u001b[0m\u001b[0;34m(\u001b[0m\u001b[0msimple_latest\u001b[0m\u001b[0;34m)\u001b[0m\u001b[0;34m,\u001b[0m\u001b[0;34m\u001b[0m\u001b[0;34m\u001b[0m\u001b[0m\n\u001b[1;32m    821\u001b[0m                             \u001b[0;34m'no_unreads'\u001b[0m\u001b[0;34m:\u001b[0m \u001b[0mint\u001b[0m\u001b[0;34m(\u001b[0m\u001b[0mno_unreads\u001b[0m\u001b[0;34m)\u001b[0m\u001b[0;34m,\u001b[0m\u001b[0;34m\u001b[0m\u001b[0;34m\u001b[0m\u001b[0m\n\u001b[0;32m--> 822\u001b[0;31m                             \u001b[0;34m'mpim_aware'\u001b[0m\u001b[0;34m:\u001b[0m \u001b[0mint\u001b[0m\u001b[0;34m(\u001b[0m\u001b[0mmpim_aware\u001b[0m\u001b[0;34m)\u001b[0m\u001b[0;34m,\u001b[0m\u001b[0;34m\u001b[0m\u001b[0;34m\u001b[0m\u001b[0m\n\u001b[0m\u001b[1;32m    823\u001b[0m                         })\n\u001b[1;32m    824\u001b[0m \u001b[0;34m\u001b[0m\u001b[0m\n",
      "\u001b[0;32m~/exit/envs/ai_marketing/lib/python3.7/site-packages/slacker/__init__.py\u001b[0m in \u001b[0;36mget\u001b[0;34m(self, api, **kwargs)\u001b[0m\n\u001b[1;32m    118\u001b[0m         return self._request(\n\u001b[1;32m    119\u001b[0m             \u001b[0mself\u001b[0m\u001b[0;34m.\u001b[0m\u001b[0m_session_get\u001b[0m \u001b[0;32mif\u001b[0m \u001b[0mself\u001b[0m\u001b[0;34m.\u001b[0m\u001b[0msession\u001b[0m \u001b[0;32melse\u001b[0m \u001b[0mrequests\u001b[0m\u001b[0;34m.\u001b[0m\u001b[0mget\u001b[0m\u001b[0;34m,\u001b[0m\u001b[0;34m\u001b[0m\u001b[0;34m\u001b[0m\u001b[0m\n\u001b[0;32m--> 120\u001b[0;31m             \u001b[0mapi\u001b[0m\u001b[0;34m,\u001b[0m \u001b[0;34m**\u001b[0m\u001b[0mkwargs\u001b[0m\u001b[0;34m\u001b[0m\u001b[0;34m\u001b[0m\u001b[0m\n\u001b[0m\u001b[1;32m    121\u001b[0m         )\n\u001b[1;32m    122\u001b[0m \u001b[0;34m\u001b[0m\u001b[0m\n",
      "\u001b[0;32m~/exit/envs/ai_marketing/lib/python3.7/site-packages/slacker/__init__.py\u001b[0m in \u001b[0;36m_request\u001b[0;34m(self, request_method, method, **kwargs)\u001b[0m\n\u001b[1;32m    100\u001b[0m         \u001b[0mresponse\u001b[0m \u001b[0;34m=\u001b[0m \u001b[0mResponse\u001b[0m\u001b[0;34m(\u001b[0m\u001b[0mresponse\u001b[0m\u001b[0;34m.\u001b[0m\u001b[0mtext\u001b[0m\u001b[0;34m)\u001b[0m\u001b[0;34m\u001b[0m\u001b[0;34m\u001b[0m\u001b[0m\n\u001b[1;32m    101\u001b[0m         \u001b[0;32mif\u001b[0m \u001b[0;32mnot\u001b[0m \u001b[0mresponse\u001b[0m\u001b[0;34m.\u001b[0m\u001b[0msuccessful\u001b[0m\u001b[0;34m:\u001b[0m\u001b[0;34m\u001b[0m\u001b[0;34m\u001b[0m\u001b[0m\n\u001b[0;32m--> 102\u001b[0;31m             \u001b[0;32mraise\u001b[0m \u001b[0mError\u001b[0m\u001b[0;34m(\u001b[0m\u001b[0mresponse\u001b[0m\u001b[0;34m.\u001b[0m\u001b[0merror\u001b[0m\u001b[0;34m)\u001b[0m\u001b[0;34m\u001b[0m\u001b[0;34m\u001b[0m\u001b[0m\n\u001b[0m\u001b[1;32m    103\u001b[0m \u001b[0;34m\u001b[0m\u001b[0m\n\u001b[1;32m    104\u001b[0m         \u001b[0;32mreturn\u001b[0m \u001b[0mresponse\u001b[0m\u001b[0;34m\u001b[0m\u001b[0;34m\u001b[0m\u001b[0m\n",
      "\u001b[0;31mError\u001b[0m: invalid_auth"
     ]
    }
   ],
   "source": [
    "bot = Bot()"
   ]
  },
  {
   "cell_type": "code",
   "execution_count": null,
   "metadata": {},
   "outputs": [],
   "source": [
    "# doc\n",
    "# Listen_to 只有文字match\n",
    "# Respond_to Tag 或是 在私訊"
   ]
  },
  {
   "cell_type": "code",
   "execution_count": 9,
   "metadata": {},
   "outputs": [],
   "source": [
    "from slackbot.bot import respond_to\n",
    "from slackbot. bot import listen_to"
   ]
  },
  {
   "cell_type": "code",
   "execution_count": 10,
   "metadata": {},
   "outputs": [],
   "source": [
    "@respond_to('練習')\n",
    "def sample(message):\n",
    "    message.send(\"これはははははは練習です。\")\n",
    "    \n",
    "@listen_to('Morning')\n",
    "def sample2(message):\n",
    "    message.send(\"Google morning!!\")\n",
    "\n",
    "\n",
    "@listen_to('我指你')\n",
    "def sample3(message):\n",
    "    message.reply(\"你指你\")"
   ]
  },
  {
   "cell_type": "code",
   "execution_count": 11,
   "metadata": {},
   "outputs": [],
   "source": [
    "from datetime import datetime"
   ]
  },
  {
   "cell_type": "code",
   "execution_count": 12,
   "metadata": {},
   "outputs": [
    {
     "data": {
      "text/plain": [
       "'2021/06/25'"
      ]
     },
     "execution_count": 12,
     "metadata": {},
     "output_type": "execute_result"
    }
   ],
   "source": [
    "timestamp = datetime.now()\n",
    "timestamp.strftime('%Y/%m/%d')"
   ]
  },
  {
   "cell_type": "code",
   "execution_count": 13,
   "metadata": {},
   "outputs": [
    {
     "data": {
      "text/plain": [
       "'06:49'"
      ]
     },
     "execution_count": 13,
     "metadata": {},
     "output_type": "execute_result"
    }
   ],
   "source": [
    "timestamp.strftime('%H:%M')"
   ]
  },
  {
   "cell_type": "code",
   "execution_count": 14,
   "metadata": {},
   "outputs": [],
   "source": [
    "@listen_to('上班')\n",
    "def pounch_in(message):\n",
    "    timestamp = datetime.now()\n",
    "    date = timestamp.strftime('%Y/%m/%d')\n",
    "    time = timestamp.strftime('%H:%M')\n",
    "    message.send(f\"上班囉 {}\".format(time))\n",
    "    \n",
    "\n",
    "@listen_to('下班')\n",
    "def pounch_out(message):\n",
    "    timestamp = datetime.now()\n",
    "    date = timestamp.strftime('%Y/%m/%d')\n",
    "    time = timestamp.strftime('%H:%M')\n",
    "    message.send(f\"下班囉 {}\".format(time))"
   ]
  },
  {
   "cell_type": "code",
   "execution_count": 15,
   "metadata": {},
   "outputs": [
    {
     "name": "stdout",
     "output_type": "stream",
     "text": [
      "Collecting openpyxl\n",
      "  Downloading openpyxl-3.0.7-py2.py3-none-any.whl (243 kB)\n",
      "\u001b[K     |████████████████████████████████| 243 kB 1.1 MB/s eta 0:00:01\n",
      "\u001b[?25hCollecting et-xmlfile\n",
      "  Downloading et_xmlfile-1.1.0-py3-none-any.whl (4.7 kB)\n",
      "Installing collected packages: et-xmlfile, openpyxl\n",
      "Successfully installed et-xmlfile-1.1.0 openpyxl-3.0.7\n"
     ]
    }
   ],
   "source": [
    "!pip install openpyxl"
   ]
  },
  {
   "cell_type": "markdown",
   "metadata": {},
   "source": [
    "## EXCEL"
   ]
  },
  {
   "cell_type": "code",
   "execution_count": null,
   "metadata": {},
   "outputs": [],
   "source": []
  },
  {
   "cell_type": "code",
   "execution_count": 16,
   "metadata": {},
   "outputs": [],
   "source": [
    "import openpyxl"
   ]
  },
  {
   "cell_type": "code",
   "execution_count": 19,
   "metadata": {},
   "outputs": [],
   "source": [
    "# 建立一個Excel\n",
    "wb = openpyxl.Workbook()\n",
    "# 建立一個Sheet\n",
    "ws = wb.worksheets[0]\n",
    "\n"
   ]
  },
  {
   "cell_type": "code",
   "execution_count": 21,
   "metadata": {},
   "outputs": [],
   "source": [
    "#二元陣列\n",
    "rng = ws[\"A1:C1\"]\n",
    "\n",
    "rng[0][0].value = \"日期\"\n",
    "rng[0][1].value = \"上班時間\"\n",
    "rng[0][2].value = \"下班時間\""
   ]
  },
  {
   "cell_type": "code",
   "execution_count": 23,
   "metadata": {},
   "outputs": [],
   "source": [
    "# 直接存起來\n",
    "wb.save(\"勤怠管理.xlsx\")\n",
    "\n",
    "# 讀檔\n",
    "# wb = openpyxl.load_workbook(\"勤怠管理.xlsx\")"
   ]
  },
  {
   "cell_type": "code",
   "execution_count": 25,
   "metadata": {},
   "outputs": [
    {
     "data": {
      "text/plain": [
       "1"
      ]
     },
     "execution_count": 25,
     "metadata": {},
     "output_type": "execute_result"
    }
   ],
   "source": [
    "## 取得最大的Row\n",
    "max_row = ws.max_row"
   ]
  },
  {
   "cell_type": "code",
   "execution_count": 26,
   "metadata": {},
   "outputs": [],
   "source": [
    "## 寫資料\n",
    "timestamp = datetime.now()\n",
    "max_row = ws.max_row\n",
    "\n",
    "# 日期\n",
    "ws[max_row + 1][0].value=timestamp.strftime('%Y/%m/%d')\n",
    "# 上班時間\n",
    "ws[max_row + 1][1].value=timestamp.strftime('%H:%M')\n",
    "# 下班時間\n",
    "ws[max_row + 1][2].value=timestamp.strftime('%H:%M')"
   ]
  },
  {
   "cell_type": "code",
   "execution_count": 27,
   "metadata": {},
   "outputs": [],
   "source": [
    "# 直接存起來\n",
    "wb.save(\"勤怠管理.xlsx\")"
   ]
  },
  {
   "cell_type": "code",
   "execution_count": null,
   "metadata": {},
   "outputs": [],
   "source": []
  },
  {
   "cell_type": "markdown",
   "metadata": {},
   "source": [
    "## 整合"
   ]
  },
  {
   "cell_type": "code",
   "execution_count": 29,
   "metadata": {},
   "outputs": [],
   "source": [
    "@listen_to('上班')\n",
    "def pounch_in(message):\n",
    "    # 取得目前時間\n",
    "    timestamp = datetime.now()\n",
    "    date = timestamp.strftime('%Y/%m/%d')\n",
    "    time = timestamp.strftime('%H:%M')\n",
    "    print('上班時間登錄')\n",
    "    \n",
    "    # 回Slack\n",
    "    message.send(\"上班囉 {}\".format(time))\n",
    "    \n",
    "    # 儲時間到Excel\n",
    "    wb = openpyxl.load_workbook(\"勤怠管理.xlsx\")\n",
    "    ws  = wb.worksheet[0]\n",
    "    max_row = ws.max_row\n",
    "    \n",
    "    # 日期\n",
    "    ws[max_row + 1][0].value=date\n",
    "    # 上班時間\n",
    "    ws[max_row + 1][1].value=time\n",
    "    \n",
    "    # 存檔\n",
    "    wb.save(\"勤怠管理.xlsx\")\n",
    "    \n",
    "    print('上班時間登錄完成')\n",
    "    \n",
    "\n",
    "@listen_to('下班')\n",
    "def pounch_out(message):\n",
    "    # 取得目前時間\n",
    "    timestamp = datetime.now()\n",
    "    date = timestamp.strftime('%Y/%m/%d')\n",
    "    time = timestamp.strftime('%H:%M')\n",
    "    \n",
    "    # 回Slack\n",
    "    message.send(\"下班囉 {}\".format(time))\n",
    "    \n",
    "        # 儲時間到Excel\n",
    "    wb = openpyxl.load_workbook(\"勤怠管理.xlsx\")\n",
    "    ws  = wb.worksheet[0]\n",
    "    max_row = ws.max_row\n",
    "    \n",
    "    # 下班時間\n",
    "    ws[max_row][2].value=time\n",
    "    \n",
    "    # 存檔\n",
    "    wb.save(\"勤怠管理.xlsx\")\n",
    "    \n",
    "    print('下班時間登錄完成')"
   ]
  },
  {
   "cell_type": "code",
   "execution_count": null,
   "metadata": {},
   "outputs": [],
   "source": []
  }
 ],
 "metadata": {
  "kernelspec": {
   "display_name": "Python 3",
   "language": "python",
   "name": "python3"
  },
  "language_info": {
   "codemirror_mode": {
    "name": "ipython",
    "version": 3
   },
   "file_extension": ".py",
   "mimetype": "text/x-python",
   "name": "python",
   "nbconvert_exporter": "python",
   "pygments_lexer": "ipython3",
   "version": "3.7.7"
  }
 },
 "nbformat": 4,
 "nbformat_minor": 4
}
